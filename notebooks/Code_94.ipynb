{
 "cells": [
  {
   "cell_type": "markdown",
   "metadata": {
    "id": "-T-heuS_6EsD"
   },
   "source": [
    "# AG News Classification with LoRA Fine-tuning\n",
    "This notebook implements an optimized approach to fine-tuning RoBERTa with LoRA for news classification"
   ]
  },
  {
   "cell_type": "markdown",
   "metadata": {
    "id": "F0k6-P8w6Crr"
   },
   "source": [
    "# Install required libraries"
   ]
  },
  {
   "cell_type": "code",
   "execution_count": 1,
   "metadata": {
    "colab": {
     "base_uri": "https://localhost:8080/"
    },
    "id": "z6ygNZVG6L1Z",
    "outputId": "abac6680-7ca3-4954-aa99-a2d4644c34e2"
   },
   "outputs": [
    {
     "name": "stdout",
     "output_type": "stream",
     "text": [
      "Requirement already satisfied: transformers in /usr/local/lib/python3.11/dist-packages (4.51.3)\n",
      "Collecting datasets\n",
      "  Downloading datasets-3.5.0-py3-none-any.whl.metadata (19 kB)\n",
      "Collecting evaluate\n",
      "  Downloading evaluate-0.4.3-py3-none-any.whl.metadata (9.2 kB)\n",
      "Requirement already satisfied: accelerate in /usr/local/lib/python3.11/dist-packages (1.5.2)\n",
      "Requirement already satisfied: peft in /usr/local/lib/python3.11/dist-packages (0.14.0)\n",
      "Collecting trl\n",
      "  Downloading trl-0.16.1-py3-none-any.whl.metadata (12 kB)\n",
      "Collecting bitsandbytes\n",
      "  Downloading bitsandbytes-0.45.5-py3-none-manylinux_2_24_x86_64.whl.metadata (5.0 kB)\n",
      "Requirement already satisfied: filelock in /usr/local/lib/python3.11/dist-packages (from transformers) (3.18.0)\n",
      "Requirement already satisfied: huggingface-hub<1.0,>=0.30.0 in /usr/local/lib/python3.11/dist-packages (from transformers) (0.30.2)\n",
      "Requirement already satisfied: numpy>=1.17 in /usr/local/lib/python3.11/dist-packages (from transformers) (2.0.2)\n",
      "Requirement already satisfied: packaging>=20.0 in /usr/local/lib/python3.11/dist-packages (from transformers) (24.2)\n",
      "Requirement already satisfied: pyyaml>=5.1 in /usr/local/lib/python3.11/dist-packages (from transformers) (6.0.2)\n",
      "Requirement already satisfied: regex!=2019.12.17 in /usr/local/lib/python3.11/dist-packages (from transformers) (2024.11.6)\n",
      "Requirement already satisfied: requests in /usr/local/lib/python3.11/dist-packages (from transformers) (2.32.3)\n",
      "Requirement already satisfied: tokenizers<0.22,>=0.21 in /usr/local/lib/python3.11/dist-packages (from transformers) (0.21.1)\n",
      "Requirement already satisfied: safetensors>=0.4.3 in /usr/local/lib/python3.11/dist-packages (from transformers) (0.5.3)\n",
      "Requirement already satisfied: tqdm>=4.27 in /usr/local/lib/python3.11/dist-packages (from transformers) (4.67.1)\n",
      "Requirement already satisfied: pyarrow>=15.0.0 in /usr/local/lib/python3.11/dist-packages (from datasets) (18.1.0)\n",
      "Collecting dill<0.3.9,>=0.3.0 (from datasets)\n",
      "  Downloading dill-0.3.8-py3-none-any.whl.metadata (10 kB)\n",
      "Requirement already satisfied: pandas in /usr/local/lib/python3.11/dist-packages (from datasets) (2.2.2)\n",
      "Collecting xxhash (from datasets)\n",
      "  Downloading xxhash-3.5.0-cp311-cp311-manylinux_2_17_x86_64.manylinux2014_x86_64.whl.metadata (12 kB)\n",
      "Collecting multiprocess<0.70.17 (from datasets)\n",
      "  Downloading multiprocess-0.70.16-py311-none-any.whl.metadata (7.2 kB)\n",
      "Collecting fsspec<=2024.12.0,>=2023.1.0 (from fsspec[http]<=2024.12.0,>=2023.1.0->datasets)\n",
      "  Downloading fsspec-2024.12.0-py3-none-any.whl.metadata (11 kB)\n",
      "Requirement already satisfied: aiohttp in /usr/local/lib/python3.11/dist-packages (from datasets) (3.11.15)\n",
      "Requirement already satisfied: psutil in /usr/local/lib/python3.11/dist-packages (from accelerate) (5.9.5)\n",
      "Requirement already satisfied: torch>=2.0.0 in /usr/local/lib/python3.11/dist-packages (from accelerate) (2.6.0+cu124)\n",
      "Requirement already satisfied: rich in /usr/local/lib/python3.11/dist-packages (from trl) (13.9.4)\n",
      "Requirement already satisfied: aiohappyeyeballs>=2.3.0 in /usr/local/lib/python3.11/dist-packages (from aiohttp->datasets) (2.6.1)\n",
      "Requirement already satisfied: aiosignal>=1.1.2 in /usr/local/lib/python3.11/dist-packages (from aiohttp->datasets) (1.3.2)\n",
      "Requirement already satisfied: attrs>=17.3.0 in /usr/local/lib/python3.11/dist-packages (from aiohttp->datasets) (25.3.0)\n",
      "Requirement already satisfied: frozenlist>=1.1.1 in /usr/local/lib/python3.11/dist-packages (from aiohttp->datasets) (1.5.0)\n",
      "Requirement already satisfied: multidict<7.0,>=4.5 in /usr/local/lib/python3.11/dist-packages (from aiohttp->datasets) (6.4.3)\n",
      "Requirement already satisfied: propcache>=0.2.0 in /usr/local/lib/python3.11/dist-packages (from aiohttp->datasets) (0.3.1)\n",
      "Requirement already satisfied: yarl<2.0,>=1.17.0 in /usr/local/lib/python3.11/dist-packages (from aiohttp->datasets) (1.19.0)\n",
      "Requirement already satisfied: typing-extensions>=3.7.4.3 in /usr/local/lib/python3.11/dist-packages (from huggingface-hub<1.0,>=0.30.0->transformers) (4.13.2)\n",
      "Requirement already satisfied: charset-normalizer<4,>=2 in /usr/local/lib/python3.11/dist-packages (from requests->transformers) (3.4.1)\n",
      "Requirement already satisfied: idna<4,>=2.5 in /usr/local/lib/python3.11/dist-packages (from requests->transformers) (3.10)\n",
      "Requirement already satisfied: urllib3<3,>=1.21.1 in /usr/local/lib/python3.11/dist-packages (from requests->transformers) (2.3.0)\n",
      "Requirement already satisfied: certifi>=2017.4.17 in /usr/local/lib/python3.11/dist-packages (from requests->transformers) (2025.1.31)\n",
      "Requirement already satisfied: networkx in /usr/local/lib/python3.11/dist-packages (from torch>=2.0.0->accelerate) (3.4.2)\n",
      "Requirement already satisfied: jinja2 in /usr/local/lib/python3.11/dist-packages (from torch>=2.0.0->accelerate) (3.1.6)\n",
      "Collecting nvidia-cuda-nvrtc-cu12==12.4.127 (from torch>=2.0.0->accelerate)\n",
      "  Downloading nvidia_cuda_nvrtc_cu12-12.4.127-py3-none-manylinux2014_x86_64.whl.metadata (1.5 kB)\n",
      "Collecting nvidia-cuda-runtime-cu12==12.4.127 (from torch>=2.0.0->accelerate)\n",
      "  Downloading nvidia_cuda_runtime_cu12-12.4.127-py3-none-manylinux2014_x86_64.whl.metadata (1.5 kB)\n",
      "Collecting nvidia-cuda-cupti-cu12==12.4.127 (from torch>=2.0.0->accelerate)\n",
      "  Downloading nvidia_cuda_cupti_cu12-12.4.127-py3-none-manylinux2014_x86_64.whl.metadata (1.6 kB)\n",
      "Collecting nvidia-cudnn-cu12==9.1.0.70 (from torch>=2.0.0->accelerate)\n",
      "  Downloading nvidia_cudnn_cu12-9.1.0.70-py3-none-manylinux2014_x86_64.whl.metadata (1.6 kB)\n",
      "Collecting nvidia-cublas-cu12==12.4.5.8 (from torch>=2.0.0->accelerate)\n",
      "  Downloading nvidia_cublas_cu12-12.4.5.8-py3-none-manylinux2014_x86_64.whl.metadata (1.5 kB)\n",
      "Collecting nvidia-cufft-cu12==11.2.1.3 (from torch>=2.0.0->accelerate)\n",
      "  Downloading nvidia_cufft_cu12-11.2.1.3-py3-none-manylinux2014_x86_64.whl.metadata (1.5 kB)\n",
      "Collecting nvidia-curand-cu12==10.3.5.147 (from torch>=2.0.0->accelerate)\n",
      "  Downloading nvidia_curand_cu12-10.3.5.147-py3-none-manylinux2014_x86_64.whl.metadata (1.5 kB)\n",
      "Collecting nvidia-cusolver-cu12==11.6.1.9 (from torch>=2.0.0->accelerate)\n",
      "  Downloading nvidia_cusolver_cu12-11.6.1.9-py3-none-manylinux2014_x86_64.whl.metadata (1.6 kB)\n",
      "Collecting nvidia-cusparse-cu12==12.3.1.170 (from torch>=2.0.0->accelerate)\n",
      "  Downloading nvidia_cusparse_cu12-12.3.1.170-py3-none-manylinux2014_x86_64.whl.metadata (1.6 kB)\n",
      "Requirement already satisfied: nvidia-cusparselt-cu12==0.6.2 in /usr/local/lib/python3.11/dist-packages (from torch>=2.0.0->accelerate) (0.6.2)\n",
      "Requirement already satisfied: nvidia-nccl-cu12==2.21.5 in /usr/local/lib/python3.11/dist-packages (from torch>=2.0.0->accelerate) (2.21.5)\n",
      "Requirement already satisfied: nvidia-nvtx-cu12==12.4.127 in /usr/local/lib/python3.11/dist-packages (from torch>=2.0.0->accelerate) (12.4.127)\n",
      "Collecting nvidia-nvjitlink-cu12==12.4.127 (from torch>=2.0.0->accelerate)\n",
      "  Downloading nvidia_nvjitlink_cu12-12.4.127-py3-none-manylinux2014_x86_64.whl.metadata (1.5 kB)\n",
      "Requirement already satisfied: triton==3.2.0 in /usr/local/lib/python3.11/dist-packages (from torch>=2.0.0->accelerate) (3.2.0)\n",
      "Requirement already satisfied: sympy==1.13.1 in /usr/local/lib/python3.11/dist-packages (from torch>=2.0.0->accelerate) (1.13.1)\n",
      "Requirement already satisfied: mpmath<1.4,>=1.1.0 in /usr/local/lib/python3.11/dist-packages (from sympy==1.13.1->torch>=2.0.0->accelerate) (1.3.0)\n",
      "Requirement already satisfied: python-dateutil>=2.8.2 in /usr/local/lib/python3.11/dist-packages (from pandas->datasets) (2.8.2)\n",
      "Requirement already satisfied: pytz>=2020.1 in /usr/local/lib/python3.11/dist-packages (from pandas->datasets) (2025.2)\n",
      "Requirement already satisfied: tzdata>=2022.7 in /usr/local/lib/python3.11/dist-packages (from pandas->datasets) (2025.2)\n",
      "Requirement already satisfied: markdown-it-py>=2.2.0 in /usr/local/lib/python3.11/dist-packages (from rich->trl) (3.0.0)\n",
      "Requirement already satisfied: pygments<3.0.0,>=2.13.0 in /usr/local/lib/python3.11/dist-packages (from rich->trl) (2.18.0)\n",
      "Requirement already satisfied: mdurl~=0.1 in /usr/local/lib/python3.11/dist-packages (from markdown-it-py>=2.2.0->rich->trl) (0.1.2)\n",
      "Requirement already satisfied: six>=1.5 in /usr/local/lib/python3.11/dist-packages (from python-dateutil>=2.8.2->pandas->datasets) (1.17.0)\n",
      "Requirement already satisfied: MarkupSafe>=2.0 in /usr/local/lib/python3.11/dist-packages (from jinja2->torch>=2.0.0->accelerate) (3.0.2)\n",
      "Downloading datasets-3.5.0-py3-none-any.whl (491 kB)\n",
      "\u001b[2K   \u001b[90m━━━━━━━━━━━━━━━━━━━━━━━━━━━━━━━━━━━━━━━━\u001b[0m \u001b[32m491.2/491.2 kB\u001b[0m \u001b[31m9.9 MB/s\u001b[0m eta \u001b[36m0:00:00\u001b[0m\n",
      "\u001b[?25hDownloading evaluate-0.4.3-py3-none-any.whl (84 kB)\n",
      "\u001b[2K   \u001b[90m━━━━━━━━━━━━━━━━━━━━━━━━━━━━━━━━━━━━━━━━\u001b[0m \u001b[32m84.0/84.0 kB\u001b[0m \u001b[31m8.1 MB/s\u001b[0m eta \u001b[36m0:00:00\u001b[0m\n",
      "\u001b[?25hDownloading trl-0.16.1-py3-none-any.whl (336 kB)\n",
      "\u001b[2K   \u001b[90m━━━━━━━━━━━━━━━━━━━━━━━━━━━━━━━━━━━━━━━━\u001b[0m \u001b[32m336.4/336.4 kB\u001b[0m \u001b[31m26.9 MB/s\u001b[0m eta \u001b[36m0:00:00\u001b[0m\n",
      "\u001b[?25hDownloading bitsandbytes-0.45.5-py3-none-manylinux_2_24_x86_64.whl (76.1 MB)\n",
      "\u001b[2K   \u001b[90m━━━━━━━━━━━━━━━━━━━━━━━━━━━━━━━━━━━━━━━━\u001b[0m \u001b[32m76.1/76.1 MB\u001b[0m \u001b[31m14.4 MB/s\u001b[0m eta \u001b[36m0:00:00\u001b[0m\n",
      "\u001b[?25hDownloading dill-0.3.8-py3-none-any.whl (116 kB)\n",
      "\u001b[2K   \u001b[90m━━━━━━━━━━━━━━━━━━━━━━━━━━━━━━━━━━━━━━━━\u001b[0m \u001b[32m116.3/116.3 kB\u001b[0m \u001b[31m9.9 MB/s\u001b[0m eta \u001b[36m0:00:00\u001b[0m\n",
      "\u001b[?25hDownloading fsspec-2024.12.0-py3-none-any.whl (183 kB)\n",
      "\u001b[2K   \u001b[90m━━━━━━━━━━━━━━━━━━━━━━━━━━━━━━━━━━━━━━━━\u001b[0m \u001b[32m183.9/183.9 kB\u001b[0m \u001b[31m17.8 MB/s\u001b[0m eta \u001b[36m0:00:00\u001b[0m\n",
      "\u001b[?25hDownloading multiprocess-0.70.16-py311-none-any.whl (143 kB)\n",
      "\u001b[2K   \u001b[90m━━━━━━━━━━━━━━━━━━━━━━━━━━━━━━━━━━━━━━━━\u001b[0m \u001b[32m143.5/143.5 kB\u001b[0m \u001b[31m13.7 MB/s\u001b[0m eta \u001b[36m0:00:00\u001b[0m\n",
      "\u001b[?25hDownloading nvidia_cublas_cu12-12.4.5.8-py3-none-manylinux2014_x86_64.whl (363.4 MB)\n",
      "\u001b[2K   \u001b[90m━━━━━━━━━━━━━━━━━━━━━━━━━━━━━━━━━━━━━━━━\u001b[0m \u001b[32m363.4/363.4 MB\u001b[0m \u001b[31m3.8 MB/s\u001b[0m eta \u001b[36m0:00:00\u001b[0m\n",
      "\u001b[?25hDownloading nvidia_cuda_cupti_cu12-12.4.127-py3-none-manylinux2014_x86_64.whl (13.8 MB)\n",
      "\u001b[2K   \u001b[90m━━━━━━━━━━━━━━━━━━━━━━━━━━━━━━━━━━━━━━━━\u001b[0m \u001b[32m13.8/13.8 MB\u001b[0m \u001b[31m105.2 MB/s\u001b[0m eta \u001b[36m0:00:00\u001b[0m\n",
      "\u001b[?25hDownloading nvidia_cuda_nvrtc_cu12-12.4.127-py3-none-manylinux2014_x86_64.whl (24.6 MB)\n",
      "\u001b[2K   \u001b[90m━━━━━━━━━━━━━━━━━━━━━━━━━━━━━━━━━━━━━━━━\u001b[0m \u001b[32m24.6/24.6 MB\u001b[0m \u001b[31m32.4 MB/s\u001b[0m eta \u001b[36m0:00:00\u001b[0m\n",
      "\u001b[?25hDownloading nvidia_cuda_runtime_cu12-12.4.127-py3-none-manylinux2014_x86_64.whl (883 kB)\n",
      "\u001b[2K   \u001b[90m━━━━━━━━━━━━━━━━━━━━━━━━━━━━━━━━━━━━━━━━\u001b[0m \u001b[32m883.7/883.7 kB\u001b[0m \u001b[31m52.8 MB/s\u001b[0m eta \u001b[36m0:00:00\u001b[0m\n",
      "\u001b[?25hDownloading nvidia_cudnn_cu12-9.1.0.70-py3-none-manylinux2014_x86_64.whl (664.8 MB)\n",
      "\u001b[2K   \u001b[90m━━━━━━━━━━━━━━━━━━━━━━━━━━━━━━━━━━━━━━━━\u001b[0m \u001b[32m664.8/664.8 MB\u001b[0m \u001b[31m1.3 MB/s\u001b[0m eta \u001b[36m0:00:00\u001b[0m\n",
      "\u001b[?25hDownloading nvidia_cufft_cu12-11.2.1.3-py3-none-manylinux2014_x86_64.whl (211.5 MB)\n",
      "\u001b[2K   \u001b[90m━━━━━━━━━━━━━━━━━━━━━━━━━━━━━━━━━━━━━━━━\u001b[0m \u001b[32m211.5/211.5 MB\u001b[0m \u001b[31m5.7 MB/s\u001b[0m eta \u001b[36m0:00:00\u001b[0m\n",
      "\u001b[?25hDownloading nvidia_curand_cu12-10.3.5.147-py3-none-manylinux2014_x86_64.whl (56.3 MB)\n",
      "\u001b[2K   \u001b[90m━━━━━━━━━━━━━━━━━━━━━━━━━━━━━━━━━━━━━━━━\u001b[0m \u001b[32m56.3/56.3 MB\u001b[0m \u001b[31m15.1 MB/s\u001b[0m eta \u001b[36m0:00:00\u001b[0m\n",
      "\u001b[?25hDownloading nvidia_cusolver_cu12-11.6.1.9-py3-none-manylinux2014_x86_64.whl (127.9 MB)\n",
      "\u001b[2K   \u001b[90m━━━━━━━━━━━━━━━━━━━━━━━━━━━━━━━━━━━━━━━━\u001b[0m \u001b[32m127.9/127.9 MB\u001b[0m \u001b[31m7.6 MB/s\u001b[0m eta \u001b[36m0:00:00\u001b[0m\n",
      "\u001b[?25hDownloading nvidia_cusparse_cu12-12.3.1.170-py3-none-manylinux2014_x86_64.whl (207.5 MB)\n",
      "\u001b[2K   \u001b[90m━━━━━━━━━━━━━━━━━━━━━━━━━━━━━━━━━━━━━━━━\u001b[0m \u001b[32m207.5/207.5 MB\u001b[0m \u001b[31m5.7 MB/s\u001b[0m eta \u001b[36m0:00:00\u001b[0m\n",
      "\u001b[?25hDownloading nvidia_nvjitlink_cu12-12.4.127-py3-none-manylinux2014_x86_64.whl (21.1 MB)\n",
      "\u001b[2K   \u001b[90m━━━━━━━━━━━━━━━━━━━━━━━━━━━━━━━━━━━━━━━━\u001b[0m \u001b[32m21.1/21.1 MB\u001b[0m \u001b[31m83.7 MB/s\u001b[0m eta \u001b[36m0:00:00\u001b[0m\n",
      "\u001b[?25hDownloading xxhash-3.5.0-cp311-cp311-manylinux_2_17_x86_64.manylinux2014_x86_64.whl (194 kB)\n",
      "\u001b[2K   \u001b[90m━━━━━━━━━━━━━━━━━━━━━━━━━━━━━━━━━━━━━━━━\u001b[0m \u001b[32m194.8/194.8 kB\u001b[0m \u001b[31m17.7 MB/s\u001b[0m eta \u001b[36m0:00:00\u001b[0m\n",
      "\u001b[?25hInstalling collected packages: xxhash, nvidia-nvjitlink-cu12, nvidia-curand-cu12, nvidia-cufft-cu12, nvidia-cuda-runtime-cu12, nvidia-cuda-nvrtc-cu12, nvidia-cuda-cupti-cu12, nvidia-cublas-cu12, fsspec, dill, nvidia-cusparse-cu12, nvidia-cudnn-cu12, multiprocess, nvidia-cusolver-cu12, datasets, evaluate, bitsandbytes, trl\n",
      "  Attempting uninstall: nvidia-nvjitlink-cu12\n",
      "    Found existing installation: nvidia-nvjitlink-cu12 12.5.82\n",
      "    Uninstalling nvidia-nvjitlink-cu12-12.5.82:\n",
      "      Successfully uninstalled nvidia-nvjitlink-cu12-12.5.82\n",
      "  Attempting uninstall: nvidia-curand-cu12\n",
      "    Found existing installation: nvidia-curand-cu12 10.3.6.82\n",
      "    Uninstalling nvidia-curand-cu12-10.3.6.82:\n",
      "      Successfully uninstalled nvidia-curand-cu12-10.3.6.82\n",
      "  Attempting uninstall: nvidia-cufft-cu12\n",
      "    Found existing installation: nvidia-cufft-cu12 11.2.3.61\n",
      "    Uninstalling nvidia-cufft-cu12-11.2.3.61:\n",
      "      Successfully uninstalled nvidia-cufft-cu12-11.2.3.61\n",
      "  Attempting uninstall: nvidia-cuda-runtime-cu12\n",
      "    Found existing installation: nvidia-cuda-runtime-cu12 12.5.82\n",
      "    Uninstalling nvidia-cuda-runtime-cu12-12.5.82:\n",
      "      Successfully uninstalled nvidia-cuda-runtime-cu12-12.5.82\n",
      "  Attempting uninstall: nvidia-cuda-nvrtc-cu12\n",
      "    Found existing installation: nvidia-cuda-nvrtc-cu12 12.5.82\n",
      "    Uninstalling nvidia-cuda-nvrtc-cu12-12.5.82:\n",
      "      Successfully uninstalled nvidia-cuda-nvrtc-cu12-12.5.82\n",
      "  Attempting uninstall: nvidia-cuda-cupti-cu12\n",
      "    Found existing installation: nvidia-cuda-cupti-cu12 12.5.82\n",
      "    Uninstalling nvidia-cuda-cupti-cu12-12.5.82:\n",
      "      Successfully uninstalled nvidia-cuda-cupti-cu12-12.5.82\n",
      "  Attempting uninstall: nvidia-cublas-cu12\n",
      "    Found existing installation: nvidia-cublas-cu12 12.5.3.2\n",
      "    Uninstalling nvidia-cublas-cu12-12.5.3.2:\n",
      "      Successfully uninstalled nvidia-cublas-cu12-12.5.3.2\n",
      "  Attempting uninstall: fsspec\n",
      "    Found existing installation: fsspec 2025.3.2\n",
      "    Uninstalling fsspec-2025.3.2:\n",
      "      Successfully uninstalled fsspec-2025.3.2\n",
      "  Attempting uninstall: nvidia-cusparse-cu12\n",
      "    Found existing installation: nvidia-cusparse-cu12 12.5.1.3\n",
      "    Uninstalling nvidia-cusparse-cu12-12.5.1.3:\n",
      "      Successfully uninstalled nvidia-cusparse-cu12-12.5.1.3\n",
      "  Attempting uninstall: nvidia-cudnn-cu12\n",
      "    Found existing installation: nvidia-cudnn-cu12 9.3.0.75\n",
      "    Uninstalling nvidia-cudnn-cu12-9.3.0.75:\n",
      "      Successfully uninstalled nvidia-cudnn-cu12-9.3.0.75\n",
      "  Attempting uninstall: nvidia-cusolver-cu12\n",
      "    Found existing installation: nvidia-cusolver-cu12 11.6.3.83\n",
      "    Uninstalling nvidia-cusolver-cu12-11.6.3.83:\n",
      "      Successfully uninstalled nvidia-cusolver-cu12-11.6.3.83\n",
      "\u001b[31mERROR: pip's dependency resolver does not currently take into account all the packages that are installed. This behaviour is the source of the following dependency conflicts.\n",
      "gcsfs 2025.3.2 requires fsspec==2025.3.2, but you have fsspec 2024.12.0 which is incompatible.\u001b[0m\u001b[31m\n",
      "\u001b[0mSuccessfully installed bitsandbytes-0.45.5 datasets-3.5.0 dill-0.3.8 evaluate-0.4.3 fsspec-2024.12.0 multiprocess-0.70.16 nvidia-cublas-cu12-12.4.5.8 nvidia-cuda-cupti-cu12-12.4.127 nvidia-cuda-nvrtc-cu12-12.4.127 nvidia-cuda-runtime-cu12-12.4.127 nvidia-cudnn-cu12-9.1.0.70 nvidia-cufft-cu12-11.2.1.3 nvidia-curand-cu12-10.3.5.147 nvidia-cusolver-cu12-11.6.1.9 nvidia-cusparse-cu12-12.3.1.170 nvidia-nvjitlink-cu12-12.4.127 trl-0.16.1 xxhash-3.5.0\n",
      "Collecting nvidia-ml-py3\n",
      "  Downloading nvidia-ml-py3-7.352.0.tar.gz (19 kB)\n",
      "  Preparing metadata (setup.py) ... \u001b[?25l\u001b[?25hdone\n",
      "Building wheels for collected packages: nvidia-ml-py3\n",
      "  Building wheel for nvidia-ml-py3 (setup.py) ... \u001b[?25l\u001b[?25hdone\n",
      "  Created wheel for nvidia-ml-py3: filename=nvidia_ml_py3-7.352.0-py3-none-any.whl size=19172 sha256=e37cd83551e0f2b2dd8f6840fe550ec2ff19d9ea4500efac26000fd370e17ed9\n",
      "  Stored in directory: /root/.cache/pip/wheels/47/50/9e/29dc79037d74c3c1bb4a8661fb608e8674b7e4260d6a3f8f51\n",
      "Successfully built nvidia-ml-py3\n",
      "Installing collected packages: nvidia-ml-py3\n",
      "Successfully installed nvidia-ml-py3-7.352.0\n"
     ]
    }
   ],
   "source": [
    "!pip install transformers datasets evaluate accelerate peft trl bitsandbytes\n",
    "!pip install nvidia-ml-py3\n"
   ]
  },
  {
   "cell_type": "code",
   "execution_count": 2,
   "metadata": {
    "id": "Nd6slJYT6NAJ"
   },
   "outputs": [],
   "source": [
    "import os\n",
    "import pandas as pd\n",
    "import numpy as np\n",
    "import torch\n",
    "import torch.nn.functional as F\n",
    "import collections\n",
    "from transformers import (\n",
    "    RobertaTokenizer,\n",
    "    RobertaForSequenceClassification,\n",
    "    TrainingArguments,\n",
    "    Trainer,\n",
    "    DataCollatorWithPadding,\n",
    "    EarlyStoppingCallback,\n",
    "    get_scheduler\n",
    ")\n",
    "from peft import LoraConfig, get_peft_model, PeftModel, TaskType\n",
    "from datasets import load_dataset, Dataset\n",
    "import pickle\n",
    "from sklearn.metrics import accuracy_score, precision_score, recall_score, f1_score, classification_report\n",
    "from torch.utils.data import DataLoader\n",
    "import evaluate\n",
    "from tqdm import tqdm\n",
    "import random\n",
    "import gc\n"
   ]
  },
  {
   "cell_type": "code",
   "execution_count": 3,
   "metadata": {
    "id": "ez23-PUt6SDW"
   },
   "outputs": [],
   "source": [
    "# Set random seeds for reproducibility\n",
    "def set_seed(seed=42):\n",
    "    random.seed(seed)\n",
    "    np.random.seed(seed)\n",
    "    torch.manual_seed(seed)\n",
    "    if torch.cuda.is_available():\n",
    "        torch.cuda.manual_seed_all(seed)\n",
    "\n",
    "set_seed(42)\n"
   ]
  },
  {
   "cell_type": "markdown",
   "metadata": {
    "id": "sP6yQMwX6UNG"
   },
   "source": [
    "## Load and Preprocess Data"
   ]
  },
  {
   "cell_type": "code",
   "execution_count": 4,
   "metadata": {
    "colab": {
     "base_uri": "https://localhost:8080/",
     "height": 532,
     "referenced_widgets": [
      "7923d257631a46c1a046c86848b55fc9",
      "f27c149aaaf84ec4b3b86d89c3a622b6",
      "22f89ad7f6274eb485581337169ed5aa",
      "a02306162d7140eba0e5a0ebb7af1b4c",
      "93f0f76e376b46df869ddbc4aa67b7a0",
      "ccaff17c977443bebef267faeb7160c2",
      "f7859c91e6f3430ca0c191c731781c68",
      "254f872e9b624ffcbbb0e2d2b1093827",
      "682d57e9e43a4aefa3a61e5f3f900f4c",
      "263e1b64b8fc49c887a7dc4fbc4df9d4",
      "4d89aedf87754b969468eb1001b083cc",
      "19fa82e53ca742289299b516c35c870a",
      "7bc528dcf3034fb58a5d6becffe4cd65",
      "f2e25c45a0a4449fa676e487df1286f3",
      "07bae8d21efc498196c10269fdd3b51f",
      "cd5f4bb91b854be3bf185394c3e4352e",
      "b809496aa0be4d68998c8d211745a5e7",
      "bfbc2be54c664b58bad9e9161fb73d87",
      "f447e96d888140f897c8cd2e53511e91",
      "6d8485337ecb4c65ab69da5950378fd0",
      "95d5fc3bf2e5428e85ddf30fa1ad7b1e",
      "54b0a3ca1d45483381301b17f51f43d2",
      "169d8efa8e4a4ae5b4e4b8729f1860b0",
      "7002aec7d4b84413a1caf94dbaf5012e",
      "7d32c8ed78af4da5a9eed27daa2bfa36",
      "a8332220b9d545bebaed65ed76f892fd",
      "c288aa2833524667938410338cb2de52",
      "5fa44efc325946189c508c704b1d4750",
      "77d941b20c2147889333d03f4b60e68a",
      "a62be1186c55415d831725cdeb5a53fb",
      "eea9b2d893894dd7b6bb916b4c2b5216",
      "47ab11ee13e842a5be9f8a6d6daf0fc2",
      "f8067bdc14a04b98a4df66e19693099b",
      "72b0316459c7457c9032379b9a0684b8",
      "235992db24304d62b6c2ff155807dbc6",
      "b1579f1867474444be09fe5453389e8a",
      "c87a3957e643479d98af87078037c7af",
      "98cfdf88ace041d3ab056d24701774bf",
      "b33ddd7d965c4c1abf9fa8adc596f522",
      "f8d2dee540704747a5a7603882f85a0c",
      "1e32c88e9c574b259e22784e071c28a2",
      "65f044a44f7948528763c8d8846da7f0",
      "c48d4f3b55694b20b79f1dc00b07ce80",
      "eacb4abcb7e747bcae22084e526aa899",
      "67c4d43d5db54c2e90e87a7fb407f815",
      "0adfa11442d64dcebf0219bae4078079",
      "940a609bb05d4286b9deea6bcf52e238",
      "5141256b83c14c7aafe1b75d0f47b11c",
      "232e746239cb47e7a934eae7898d5bb8",
      "bbdd7c46f37d4dd3bb4a06540a2c278a",
      "6ab79f4bf7984e3eb2b36a13634d749a",
      "c5df347b912848418d15161c6449a37a",
      "48d121cc832e45f981d2baae0a06f1a9",
      "16a8af2672f841149ccb1554ddc3fc2c",
      "26808b5306bf4573bd3c00ed07c2cb90",
      "1ebc55c110674c70b041c761d20d7f64",
      "e7eca22402b543a5afd3a25be1929a94",
      "4d066dbc4db944e9ad18215fa43c4768",
      "7fc57ba0f9444ba4a3311499edf3fe48",
      "5dfe7f292e0d498dbf0d851aca03b2a8",
      "bc970421375b46aabca621a1cf405c15",
      "bfb1460afb23499a8cf43b28b2e8b94c",
      "b56c20d510bd4344bcd7cccedc589525",
      "9574ff026f07475a8f9270fd2250f40b",
      "fdf20b0445a44c90a8f2c8566e7e1207",
      "ca876a30264b46f782ae079cf761b10d",
      "f78b8cc83d434c09a32a39138dee3df5",
      "b6f3ca46a4444b46ab13d43254a9c5c6",
      "c75c8a0ea6174be78390e963007fd81c",
      "d63b4c548bf54735b789d8b0c463d9bd",
      "369f9abe3b7b418fa4c2fa48f54d1faf",
      "79e69c8e421b4fa992c5c404cf468189",
      "bda7f71b99194884ac75b03bf96e10e0",
      "0ee3aca6377349279aff4c3ebd6b8437",
      "29eadb54bfea4bad916ab2c6f54440fc",
      "209dc042ca47453398aa7ed4f2a7ce43",
      "2c9898a38f504218ac8a92e9b456f4b5",
      "c4a287aafa3c46b6ba51a954208dee77",
      "29eeecc8027349e892b1253b3d890e3f",
      "def09276506f4f9099f71a3eac596849",
      "39d59d0acb344a39aaec6eefa7a0c0a1",
      "b3b52da992fa4dfb9edb4e1c6cb8c16d",
      "24d298a146854119951d6d948aa0ac8d",
      "a26a2708354e49489f4a9490185c5dd0",
      "e9c1b9d9ba6f43a3949745f36ce194d5",
      "162a360a408e43ab91a8ae07c218c254",
      "8dda6b4635b4488da20e23c15cb083ad",
      "a4ced25da628480bb1534a1b5f7dba02",
      "e2d2a30902c046f5b3b925da65e7bda8",
      "8e7915b18834455f92d6a59221db419f",
      "68051d87c4b6427f81056b728812ac09",
      "b44e0ba399394265bd46d25f1a7aa158",
      "c3c17a24015e4bbf9b5700e23900af7c",
      "b2b12bd8e70849b582cdc2b50b0e91c8",
      "dc0d6ce744144e9e805c2a479f44c010",
      "e0ce9fccff8c491a80d6ab39ccb0fac8",
      "5abbc01de4854ae2be080765d119d31c",
      "2029e654cd014cd3bf2da885e9fbde44",
      "168a29bf0e9a4a228f9fe3c6512d0e21",
      "283799e8fab84415916bd4a78c0ddb64",
      "0493c27369b746989e5711d1dff882bc",
      "049e3e64e9b0405bb42721f7f7180b7b",
      "4378b09294cd43178fd46b25e284006d",
      "4fb2ce660c724fc09c41bd0a76e4edff",
      "dff4e02af2294bada9416abb941ce143",
      "f9c6db7bc1d54f56a78376c9cdf9dd3e",
      "c350995a27cf4a959b114766199a8690",
      "85f874de61894da8b82b6d5af7aef4a4",
      "4da1455eec8742b7ad56c1d21b954c12",
      "e8ab3c1390d54d12b4478f1c85d1f98b",
      "c065b2ecb448412f89644fde71b21ded",
      "3264de71f5a8446f9f1a6f4ea10da42a",
      "6a386e2518c64c4c89c2f08868d9eb93",
      "c8211b2a1ef442dcb672cf060c96b536",
      "483dbacb02cc4c77bc7ce3d17c4cebcb",
      "cd0dfd45223049499f0f6f35e4af12b2",
      "01b0fc56819a45aa9a654fb930867603",
      "49dbf65da59d4888a47a5d39a55513df",
      "10de781c0a9f4c2181b3adbdb8f7b92e",
      "c57c59d737284107ad9f05f3bbb862e6",
      "1c45b2bf386d496598d53f008d84e1d4"
     ]
    },
    "id": "nbnAQYzk6WDp",
    "outputId": "05bc4451-5608-4cad-b8c6-c3b3b0734fad"
   },
   "outputs": [
    {
     "name": "stderr",
     "output_type": "stream",
     "text": [
      "/usr/local/lib/python3.11/dist-packages/huggingface_hub/utils/_auth.py:94: UserWarning: \n",
      "The secret `HF_TOKEN` does not exist in your Colab secrets.\n",
      "To authenticate with the Hugging Face Hub, create a token in your settings tab (https://huggingface.co/settings/tokens), set it as secret in your Google Colab and restart your session.\n",
      "You will be able to reuse this secret in all of your notebooks.\n",
      "Please note that authentication is recommended but still optional to access public models or datasets.\n",
      "  warnings.warn(\n"
     ]
    },
    {
     "data": {
      "application/vnd.jupyter.widget-view+json": {
       "model_id": "7923d257631a46c1a046c86848b55fc9",
       "version_major": 2,
       "version_minor": 0
      },
      "text/plain": [
       "README.md:   0%|          | 0.00/8.07k [00:00<?, ?B/s]"
      ]
     },
     "metadata": {},
     "output_type": "display_data"
    },
    {
     "data": {
      "application/vnd.jupyter.widget-view+json": {
       "model_id": "19fa82e53ca742289299b516c35c870a",
       "version_major": 2,
       "version_minor": 0
      },
      "text/plain": [
       "train-00000-of-00001.parquet:   0%|          | 0.00/18.6M [00:00<?, ?B/s]"
      ]
     },
     "metadata": {},
     "output_type": "display_data"
    },
    {
     "data": {
      "application/vnd.jupyter.widget-view+json": {
       "model_id": "169d8efa8e4a4ae5b4e4b8729f1860b0",
       "version_major": 2,
       "version_minor": 0
      },
      "text/plain": [
       "test-00000-of-00001.parquet:   0%|          | 0.00/1.23M [00:00<?, ?B/s]"
      ]
     },
     "metadata": {},
     "output_type": "display_data"
    },
    {
     "data": {
      "application/vnd.jupyter.widget-view+json": {
       "model_id": "72b0316459c7457c9032379b9a0684b8",
       "version_major": 2,
       "version_minor": 0
      },
      "text/plain": [
       "Generating train split:   0%|          | 0/120000 [00:00<?, ? examples/s]"
      ]
     },
     "metadata": {},
     "output_type": "display_data"
    },
    {
     "data": {
      "application/vnd.jupyter.widget-view+json": {
       "model_id": "67c4d43d5db54c2e90e87a7fb407f815",
       "version_major": 2,
       "version_minor": 0
      },
      "text/plain": [
       "Generating test split:   0%|          | 0/7600 [00:00<?, ? examples/s]"
      ]
     },
     "metadata": {},
     "output_type": "display_data"
    },
    {
     "data": {
      "application/vnd.jupyter.widget-view+json": {
       "model_id": "1ebc55c110674c70b041c761d20d7f64",
       "version_major": 2,
       "version_minor": 0
      },
      "text/plain": [
       "tokenizer_config.json:   0%|          | 0.00/25.0 [00:00<?, ?B/s]"
      ]
     },
     "metadata": {},
     "output_type": "display_data"
    },
    {
     "data": {
      "application/vnd.jupyter.widget-view+json": {
       "model_id": "f78b8cc83d434c09a32a39138dee3df5",
       "version_major": 2,
       "version_minor": 0
      },
      "text/plain": [
       "vocab.json:   0%|          | 0.00/899k [00:00<?, ?B/s]"
      ]
     },
     "metadata": {},
     "output_type": "display_data"
    },
    {
     "data": {
      "application/vnd.jupyter.widget-view+json": {
       "model_id": "c4a287aafa3c46b6ba51a954208dee77",
       "version_major": 2,
       "version_minor": 0
      },
      "text/plain": [
       "merges.txt:   0%|          | 0.00/456k [00:00<?, ?B/s]"
      ]
     },
     "metadata": {},
     "output_type": "display_data"
    },
    {
     "data": {
      "application/vnd.jupyter.widget-view+json": {
       "model_id": "e2d2a30902c046f5b3b925da65e7bda8",
       "version_major": 2,
       "version_minor": 0
      },
      "text/plain": [
       "tokenizer.json:   0%|          | 0.00/1.36M [00:00<?, ?B/s]"
      ]
     },
     "metadata": {},
     "output_type": "display_data"
    },
    {
     "data": {
      "application/vnd.jupyter.widget-view+json": {
       "model_id": "283799e8fab84415916bd4a78c0ddb64",
       "version_major": 2,
       "version_minor": 0
      },
      "text/plain": [
       "config.json:   0%|          | 0.00/481 [00:00<?, ?B/s]"
      ]
     },
     "metadata": {},
     "output_type": "display_data"
    },
    {
     "data": {
      "application/vnd.jupyter.widget-view+json": {
       "model_id": "c065b2ecb448412f89644fde71b21ded",
       "version_major": 2,
       "version_minor": 0
      },
      "text/plain": [
       "Map:   0%|          | 0/120000 [00:00<?, ? examples/s]"
      ]
     },
     "metadata": {},
     "output_type": "display_data"
    },
    {
     "name": "stdout",
     "output_type": "stream",
     "text": [
      "Number of labels: 4\n",
      "Class labels: ['World', 'Sports', 'Business', 'Sci/Tech']\n"
     ]
    }
   ],
   "source": [
    "# Model configuration\n",
    "base_model = 'roberta-base'\n",
    "\n",
    "# Load AG News dataset\n",
    "dataset = load_dataset('ag_news', split='train')\n",
    "tokenizer = RobertaTokenizer.from_pretrained(base_model)\n",
    "\n",
    "# Better preprocessing function with improved tokenization\n",
    "def preprocess(examples):\n",
    "    # Tokenize with truncation and padding but no max length yet\n",
    "    # We'll dynamically pad in the DataCollator\n",
    "    tokenized = tokenizer(\n",
    "        examples['text'],\n",
    "        truncation=True,\n",
    "        padding=False,  # Dynamic padding in data collator\n",
    "        max_length=256,  # Increased from default to capture more context\n",
    "        return_tensors=None\n",
    "    )\n",
    "    return tokenized\n",
    "\n",
    "# Process the dataset\n",
    "tokenized_dataset = dataset.map(preprocess, batched=True, remove_columns=[\"text\"])\n",
    "tokenized_dataset = tokenized_dataset.rename_column(\"label\", \"labels\")\n",
    "\n",
    "# Extract class information\n",
    "num_labels = dataset.features['label'].num_classes\n",
    "class_names = dataset.features[\"label\"].names\n",
    "print(f\"Number of labels: {num_labels}\")\n",
    "print(f\"Class labels: {class_names}\")\n",
    "\n",
    "# Create label mappings\n",
    "id2label = {i: label for i, label in enumerate(class_names)}\n",
    "label2id = {label: i for i, label in enumerate(class_names)}\n",
    "\n",
    "# Create data collator with dynamic padding\n",
    "data_collator = DataCollatorWithPadding(tokenizer=tokenizer, return_tensors=\"pt\")\n"
   ]
  },
  {
   "cell_type": "markdown",
   "metadata": {
    "id": "NBhHoa216bKJ"
   },
   "source": [
    "## Load Pre-trained Model"
   ]
  },
  {
   "cell_type": "code",
   "execution_count": 5,
   "metadata": {
    "colab": {
     "base_uri": "https://localhost:8080/",
     "height": 158,
     "referenced_widgets": [
      "05a0a36d91474a759734035cabd14d4d",
      "77d98d98d95c466e911662c18e7cfa8d",
      "3d19654ae32647c68df1c552645bf9b7",
      "19d54c3e72e840228e77a417a4720fb2",
      "5f1ca5c80d0043b995e2f12de2fcb335",
      "dc5d4faf515547b8b53db7ace7505429",
      "aac9a8249a4f46d7b49b8d1411a368c8",
      "bfb5e6790cb04f67a7cd035014f2fb5d",
      "390ee8d315084a41a8d7780d428e1a40",
      "446a9189a82f4cd89d01ce518d6b96c2",
      "0972362b78f441a59051d74e320bb169"
     ]
    },
    "id": "7Dc6NjLS6biB",
    "outputId": "064aa524-1988-4891-97d0-00e03d33845c"
   },
   "outputs": [
    {
     "name": "stderr",
     "output_type": "stream",
     "text": [
      "Xet Storage is enabled for this repo, but the 'hf_xet' package is not installed. Falling back to regular HTTP download. For better performance, install the package with: `pip install huggingface_hub[hf_xet]` or `pip install hf_xet`\n",
      "WARNING:huggingface_hub.file_download:Xet Storage is enabled for this repo, but the 'hf_xet' package is not installed. Falling back to regular HTTP download. For better performance, install the package with: `pip install huggingface_hub[hf_xet]` or `pip install hf_xet`\n"
     ]
    },
    {
     "data": {
      "application/vnd.jupyter.widget-view+json": {
       "model_id": "05a0a36d91474a759734035cabd14d4d",
       "version_major": 2,
       "version_minor": 0
      },
      "text/plain": [
       "model.safetensors:   0%|          | 0.00/499M [00:00<?, ?B/s]"
      ]
     },
     "metadata": {},
     "output_type": "display_data"
    },
    {
     "name": "stderr",
     "output_type": "stream",
     "text": [
      "Some weights of RobertaForSequenceClassification were not initialized from the model checkpoint at roberta-base and are newly initialized: ['classifier.dense.bias', 'classifier.dense.weight', 'classifier.out_proj.bias', 'classifier.out_proj.weight']\n",
      "You should probably TRAIN this model on a down-stream task to be able to use it for predictions and inference.\n"
     ]
    },
    {
     "name": "stdout",
     "output_type": "stream",
     "text": [
      "Using device: cuda\n"
     ]
    }
   ],
   "source": [
    "# Load the base model with appropriate configuration\n",
    "model = RobertaForSequenceClassification.from_pretrained(\n",
    "    base_model,\n",
    "    num_labels=num_labels,\n",
    "    id2label=id2label,\n",
    "    label2id=label2id\n",
    ")\n",
    "\n",
    "# Check device availability\n",
    "device = torch.device(\"cuda\" if torch.cuda.is_available() else \"cpu\")\n",
    "print(f\"Using device: {device}\")\n"
   ]
  },
  {
   "cell_type": "markdown",
   "metadata": {
    "id": "Wbt-ckHg6eNd"
   },
   "source": [
    "## Dataset Preparation"
   ]
  },
  {
   "cell_type": "code",
   "execution_count": 6,
   "metadata": {
    "colab": {
     "base_uri": "https://localhost:8080/"
    },
    "id": "7Mz9bOVu6fyq",
    "outputId": "f78bd225-79f4-4055-de00-4714e8e73282"
   },
   "outputs": [
    {
     "name": "stdout",
     "output_type": "stream",
     "text": [
      "Training examples: 108000\n",
      "Validation examples: 12000\n",
      "Training label distribution:\n",
      "  Class 1 (Sports): 27000 examples\n",
      "  Class 3 (Sci/Tech): 27000 examples\n",
      "  Class 2 (Business): 27000 examples\n",
      "  Class 0 (World): 27000 examples\n",
      "Validation label distribution:\n",
      "  Class 2 (Business): 3000 examples\n",
      "  Class 0 (World): 3000 examples\n",
      "  Class 3 (Sci/Tech): 3000 examples\n",
      "  Class 1 (Sports): 3000 examples\n"
     ]
    }
   ],
   "source": [
    "# Split dataset with stratification to ensure class balance\n",
    "split_datasets = tokenized_dataset.train_test_split(test_size=0.1, seed=42, stratify_by_column=\"labels\")\n",
    "train_dataset = split_datasets['train']\n",
    "eval_dataset = split_datasets['test']\n",
    "\n",
    "print(f\"Training examples: {len(train_dataset)}\")\n",
    "print(f\"Validation examples: {len(eval_dataset)}\")\n",
    "\n",
    "# Calculate label distributions using Counter instead of value_counts\n",
    "train_labels = train_dataset['labels']\n",
    "eval_labels = eval_dataset['labels']\n",
    "\n",
    "train_label_counts = collections.Counter(train_labels)\n",
    "eval_label_counts = collections.Counter(eval_labels)\n",
    "\n",
    "print(\"Training label distribution:\")\n",
    "for label_id, count in train_label_counts.items():\n",
    "    print(f\"  Class {label_id} ({id2label[label_id]}): {count} examples\")\n",
    "\n",
    "print(\"Validation label distribution:\")\n",
    "for label_id, count in eval_label_counts.items():\n",
    "    print(f\"  Class {label_id} ({id2label[label_id]}): {count} examples\")\n"
   ]
  },
  {
   "cell_type": "markdown",
   "metadata": {
    "id": "YF1QTD1r6pEu"
   },
   "source": [
    "## Optimized LoRA Configuration"
   ]
  },
  {
   "cell_type": "code",
   "execution_count": 7,
   "metadata": {
    "colab": {
     "base_uri": "https://localhost:8080/"
    },
    "id": "64rgIeA46sec",
    "outputId": "6fe2310a-e2fb-4ec9-ab24-94022fe95f43"
   },
   "outputs": [
    {
     "name": "stdout",
     "output_type": "stream",
     "text": [
      "PEFT Model Parameters:\n",
      "trainable params: 888,580 || all params: 125,537,288 || trainable%: 0.7078\n"
     ]
    }
   ],
   "source": [
    "# Enhanced LoRA configuration\n",
    "peft_config = LoraConfig(\n",
    "    r=8,\n",
    "    lora_alpha=16,  # Increased alpha for stronger updates\n",
    "    lora_dropout=0.1,  # Increased dropout for better regularization\n",
    "    bias=\"none\",\n",
    "    target_modules=[\"query\", \"value\"],\n",
    "    task_type=TaskType.SEQ_CLS,\n",
    ")\n",
    "\n",
    "# Create PEFT model\n",
    "peft_model = get_peft_model(model, peft_config)\n",
    "peft_model.to(device)\n",
    "\n",
    "print('PEFT Model Parameters:')\n",
    "peft_model.print_trainable_parameters()\n"
   ]
  },
  {
   "cell_type": "markdown",
   "metadata": {
    "id": "QWBOnYNJ6iW0"
   },
   "source": [
    "## Optimized Training Setup"
   ]
  },
  {
   "cell_type": "code",
   "execution_count": 8,
   "metadata": {
    "id": "8tBL9pue6yHx"
   },
   "outputs": [],
   "source": [
    "# Enhanced metrics function\n",
    "def compute_metrics(pred):\n",
    "    labels = pred.label_ids\n",
    "    preds = pred.predictions.argmax(-1)\n",
    "\n",
    "    # Calculate comprehensive metrics\n",
    "    accuracy = accuracy_score(labels, preds)\n",
    "    precision = precision_score(labels, preds, average='weighted')\n",
    "    recall = recall_score(labels, preds, average='weighted')\n",
    "    f1 = f1_score(labels, preds, average='weighted')\n",
    "\n",
    "    # Add per-class metrics\n",
    "    class_report = classification_report(labels, preds, target_names=class_names, output_dict=True)\n",
    "\n",
    "    # Extract per-class F1 scores\n",
    "    class_f1s = {f\"f1_{class_names[i]}\": class_report[name]['f1-score']\n",
    "                for i, name in enumerate(class_names)}\n",
    "\n",
    "    metrics = {\n",
    "        'accuracy': accuracy,\n",
    "        'precision': precision,\n",
    "        'recall': recall,\n",
    "        'f1': f1,\n",
    "        **class_f1s\n",
    "    }\n",
    "\n",
    "    return metrics\n"
   ]
  },
  {
   "cell_type": "code",
   "execution_count": 9,
   "metadata": {
    "id": "hnA-JRop63aC"
   },
   "outputs": [],
   "source": [
    "# Setup optimized training arguments\n",
    "# Using the correct parameter names for the version of transformers library\n",
    "output_dir = \"results\"\n",
    "training_args = TrainingArguments(\n",
    "    output_dir=output_dir,\n",
    "    report_to=\"wandb\",  # Set to \"wandb\" if you want to use Weights & Biases\n",
    "    eval_strategy='steps',  # Instead of evaluation_strategy\n",
    "    eval_steps=500,  # Evaluate more frequently\n",
    "    logging_steps=100,\n",
    "    save_strategy='steps',  # Instead of save_strategy\n",
    "    save_steps=500,\n",
    "    save_total_limit=3,  # Keep only the best 3 checkpoints\n",
    "    learning_rate=2e-4,  # Higher learning rate for LoRA\n",
    "    num_train_epochs=5,  # Train longer\n",
    "    max_steps=-1,  # Use epochs instead of steps\n",
    "    per_device_train_batch_size=32,  # Increased batch size\n",
    "    per_device_eval_batch_size=64,\n",
    "    weight_decay=0.01,  # L2 regularization\n",
    "    warmup_ratio=0.1,  # Gradual warmup\n",
    "    optim=\"adamw_torch\",  # Better optimizer\n",
    "    fp16=torch.cuda.is_available(), # Enable fp16 only if cuda is available\n",
    "    gradient_accumulation_steps=2,  # Simulate larger batches\n",
    "    load_best_model_at_end=True,  # Load best model after training\n",
    "    metric_for_best_model=\"accuracy\",\n",
    "    greater_is_better=True,\n",
    "    seed=42\n",
    ")\n"
   ]
  },
  {
   "cell_type": "code",
   "execution_count": 10,
   "metadata": {
    "colab": {
     "base_uri": "https://localhost:8080/"
    },
    "id": "OeJPj78U65vu",
    "outputId": "110170f9-4a2e-4499-b9ae-3a6eb5511420"
   },
   "outputs": [
    {
     "name": "stderr",
     "output_type": "stream",
     "text": [
      "No label_names provided for model class `PeftModelForSequenceClassification`. Since `PeftModel` hides base models input arguments, if label_names is not given, label_names can't be set automatically within `Trainer`. Note that empty label_names list will be used instead.\n"
     ]
    }
   ],
   "source": [
    "# Define trainer with early stopping\n",
    "trainer = Trainer(\n",
    "    model=peft_model,\n",
    "    args=training_args,\n",
    "    train_dataset=train_dataset,\n",
    "    eval_dataset=eval_dataset,\n",
    "    compute_metrics=compute_metrics,\n",
    "    data_collator=data_collator,\n",
    "    callbacks=[EarlyStoppingCallback(early_stopping_patience=3)]\n",
    ")"
   ]
  },
  {
   "cell_type": "markdown",
   "metadata": {
    "id": "3NnSL0wo674N"
   },
   "source": [
    "## Training"
   ]
  },
  {
   "cell_type": "code",
   "execution_count": 11,
   "metadata": {
    "colab": {
     "base_uri": "https://localhost:8080/",
     "height": 988
    },
    "id": "Ze0hQTxV68Me",
    "outputId": "0863e100-b743-4ce3-8bd4-9ca2301b519a"
   },
   "outputs": [
    {
     "name": "stdout",
     "output_type": "stream",
     "text": [
      "Starting training...\n"
     ]
    },
    {
     "name": "stderr",
     "output_type": "stream",
     "text": [
      "\u001b[34m\u001b[1mwandb\u001b[0m: \u001b[33mWARNING\u001b[0m The `run_name` is currently set to the same value as `TrainingArguments.output_dir`. If this was not intended, please specify a different run name by setting the `TrainingArguments.run_name` parameter.\n",
      "\u001b[34m\u001b[1mwandb\u001b[0m: Using wandb-core as the SDK backend.  Please refer to https://wandb.me/wandb-core for more information.\n"
     ]
    },
    {
     "data": {
      "application/javascript": [
       "\n",
       "        window._wandbApiKey = new Promise((resolve, reject) => {\n",
       "            function loadScript(url) {\n",
       "            return new Promise(function(resolve, reject) {\n",
       "                let newScript = document.createElement(\"script\");\n",
       "                newScript.onerror = reject;\n",
       "                newScript.onload = resolve;\n",
       "                document.body.appendChild(newScript);\n",
       "                newScript.src = url;\n",
       "            });\n",
       "            }\n",
       "            loadScript(\"https://cdn.jsdelivr.net/npm/postmate/build/postmate.min.js\").then(() => {\n",
       "            const iframe = document.createElement('iframe')\n",
       "            iframe.style.cssText = \"width:0;height:0;border:none\"\n",
       "            document.body.appendChild(iframe)\n",
       "            const handshake = new Postmate({\n",
       "                container: iframe,\n",
       "                url: 'https://wandb.ai/authorize'\n",
       "            });\n",
       "            const timeout = setTimeout(() => reject(\"Couldn't auto authenticate\"), 5000)\n",
       "            handshake.then(function(child) {\n",
       "                child.on('authorize', data => {\n",
       "                    clearTimeout(timeout)\n",
       "                    resolve(data)\n",
       "                });\n",
       "            });\n",
       "            })\n",
       "        });\n",
       "    "
      ],
      "text/plain": [
       "<IPython.core.display.Javascript object>"
      ]
     },
     "metadata": {},
     "output_type": "display_data"
    },
    {
     "name": "stderr",
     "output_type": "stream",
     "text": [
      "\u001b[34m\u001b[1mwandb\u001b[0m: Logging into wandb.ai. (Learn how to deploy a W&B server locally: https://wandb.me/wandb-server)\n",
      "\u001b[34m\u001b[1mwandb\u001b[0m: You can find your API key in your browser here: https://wandb.ai/authorize\n",
      "wandb: Paste an API key from your profile and hit enter:"
     ]
    },
    {
     "name": "stdout",
     "output_type": "stream",
     "text": [
      " ··········\n"
     ]
    },
    {
     "name": "stderr",
     "output_type": "stream",
     "text": [
      "\u001b[34m\u001b[1mwandb\u001b[0m: \u001b[33mWARNING\u001b[0m If you're specifying your api key in code, ensure this code is not shared publicly.\n",
      "\u001b[34m\u001b[1mwandb\u001b[0m: \u001b[33mWARNING\u001b[0m Consider setting the WANDB_API_KEY environment variable, or running `wandb login` from the command line.\n",
      "\u001b[34m\u001b[1mwandb\u001b[0m: No netrc file found, creating one.\n",
      "\u001b[34m\u001b[1mwandb\u001b[0m: Appending key for api.wandb.ai to your netrc file: /root/.netrc\n",
      "\u001b[34m\u001b[1mwandb\u001b[0m: Currently logged in as: \u001b[33mms15532\u001b[0m (\u001b[33mms15532-new-york-university\u001b[0m) to \u001b[32mhttps://api.wandb.ai\u001b[0m. Use \u001b[1m`wandb login --relogin`\u001b[0m to force relogin\n"
     ]
    },
    {
     "data": {
      "text/html": [
       "Tracking run with wandb version 0.19.9"
      ],
      "text/plain": [
       "<IPython.core.display.HTML object>"
      ]
     },
     "metadata": {},
     "output_type": "display_data"
    },
    {
     "data": {
      "text/html": [
       "Run data is saved locally in <code>/content/wandb/run-20250421_203102-kt1mg822</code>"
      ],
      "text/plain": [
       "<IPython.core.display.HTML object>"
      ]
     },
     "metadata": {},
     "output_type": "display_data"
    },
    {
     "data": {
      "text/html": [
       "Syncing run <strong><a href='https://wandb.ai/ms15532-new-york-university/huggingface/runs/kt1mg822' target=\"_blank\">results</a></strong> to <a href='https://wandb.ai/ms15532-new-york-university/huggingface' target=\"_blank\">Weights & Biases</a> (<a href='https://wandb.me/developer-guide' target=\"_blank\">docs</a>)<br>"
      ],
      "text/plain": [
       "<IPython.core.display.HTML object>"
      ]
     },
     "metadata": {},
     "output_type": "display_data"
    },
    {
     "data": {
      "text/html": [
       " View project at <a href='https://wandb.ai/ms15532-new-york-university/huggingface' target=\"_blank\">https://wandb.ai/ms15532-new-york-university/huggingface</a>"
      ],
      "text/plain": [
       "<IPython.core.display.HTML object>"
      ]
     },
     "metadata": {},
     "output_type": "display_data"
    },
    {
     "data": {
      "text/html": [
       " View run at <a href='https://wandb.ai/ms15532-new-york-university/huggingface/runs/kt1mg822' target=\"_blank\">https://wandb.ai/ms15532-new-york-university/huggingface/runs/kt1mg822</a>"
      ],
      "text/plain": [
       "<IPython.core.display.HTML object>"
      ]
     },
     "metadata": {},
     "output_type": "display_data"
    },
    {
     "data": {
      "text/html": [
       "\n",
       "    <div>\n",
       "      \n",
       "      <progress value='8435' max='8435' style='width:300px; height:20px; vertical-align: middle;'></progress>\n",
       "      [8435/8435 43:13, Epoch 4/5]\n",
       "    </div>\n",
       "    <table border=\"1\" class=\"dataframe\">\n",
       "  <thead>\n",
       " <tr style=\"text-align: left;\">\n",
       "      <th>Step</th>\n",
       "      <th>Training Loss</th>\n",
       "      <th>Validation Loss</th>\n",
       "      <th>Accuracy</th>\n",
       "      <th>Precision</th>\n",
       "      <th>Recall</th>\n",
       "      <th>F1</th>\n",
       "      <th>F1 World</th>\n",
       "      <th>F1 Sports</th>\n",
       "      <th>F1 Business</th>\n",
       "      <th>F1 Sci/tech</th>\n",
       "    </tr>\n",
       "  </thead>\n",
       "  <tbody>\n",
       "    <tr>\n",
       "      <td>500</td>\n",
       "      <td>0.285800</td>\n",
       "      <td>0.267206</td>\n",
       "      <td>0.908750</td>\n",
       "      <td>0.908871</td>\n",
       "      <td>0.908750</td>\n",
       "      <td>0.908400</td>\n",
       "      <td>0.913117</td>\n",
       "      <td>0.975538</td>\n",
       "      <td>0.864828</td>\n",
       "      <td>0.880117</td>\n",
       "    </tr>\n",
       "    <tr>\n",
       "      <td>1000</td>\n",
       "      <td>0.245300</td>\n",
       "      <td>0.247861</td>\n",
       "      <td>0.915000</td>\n",
       "      <td>0.918517</td>\n",
       "      <td>0.915000</td>\n",
       "      <td>0.915408</td>\n",
       "      <td>0.921210</td>\n",
       "      <td>0.977815</td>\n",
       "      <td>0.878434</td>\n",
       "      <td>0.884175</td>\n",
       "    </tr>\n",
       "    <tr>\n",
       "      <td>1500</td>\n",
       "      <td>0.215200</td>\n",
       "      <td>0.208330</td>\n",
       "      <td>0.927500</td>\n",
       "      <td>0.928166</td>\n",
       "      <td>0.927500</td>\n",
       "      <td>0.927538</td>\n",
       "      <td>0.936430</td>\n",
       "      <td>0.982415</td>\n",
       "      <td>0.892652</td>\n",
       "      <td>0.898654</td>\n",
       "    </tr>\n",
       "    <tr>\n",
       "      <td>2000</td>\n",
       "      <td>0.196000</td>\n",
       "      <td>0.201010</td>\n",
       "      <td>0.930500</td>\n",
       "      <td>0.930414</td>\n",
       "      <td>0.930500</td>\n",
       "      <td>0.930376</td>\n",
       "      <td>0.941970</td>\n",
       "      <td>0.981716</td>\n",
       "      <td>0.895962</td>\n",
       "      <td>0.901857</td>\n",
       "    </tr>\n",
       "    <tr>\n",
       "      <td>2500</td>\n",
       "      <td>0.198000</td>\n",
       "      <td>0.186604</td>\n",
       "      <td>0.933750</td>\n",
       "      <td>0.934124</td>\n",
       "      <td>0.933750</td>\n",
       "      <td>0.933810</td>\n",
       "      <td>0.946746</td>\n",
       "      <td>0.984891</td>\n",
       "      <td>0.898473</td>\n",
       "      <td>0.905129</td>\n",
       "    </tr>\n",
       "    <tr>\n",
       "      <td>3000</td>\n",
       "      <td>0.197400</td>\n",
       "      <td>0.184886</td>\n",
       "      <td>0.935583</td>\n",
       "      <td>0.935724</td>\n",
       "      <td>0.935583</td>\n",
       "      <td>0.935587</td>\n",
       "      <td>0.947938</td>\n",
       "      <td>0.983786</td>\n",
       "      <td>0.902078</td>\n",
       "      <td>0.908548</td>\n",
       "    </tr>\n",
       "    <tr>\n",
       "      <td>3500</td>\n",
       "      <td>0.177100</td>\n",
       "      <td>0.185424</td>\n",
       "      <td>0.935250</td>\n",
       "      <td>0.936791</td>\n",
       "      <td>0.935250</td>\n",
       "      <td>0.935413</td>\n",
       "      <td>0.947977</td>\n",
       "      <td>0.986169</td>\n",
       "      <td>0.900683</td>\n",
       "      <td>0.906824</td>\n",
       "    </tr>\n",
       "    <tr>\n",
       "      <td>4000</td>\n",
       "      <td>0.176300</td>\n",
       "      <td>0.176158</td>\n",
       "      <td>0.937917</td>\n",
       "      <td>0.938221</td>\n",
       "      <td>0.937917</td>\n",
       "      <td>0.937862</td>\n",
       "      <td>0.949967</td>\n",
       "      <td>0.987190</td>\n",
       "      <td>0.904754</td>\n",
       "      <td>0.909536</td>\n",
       "    </tr>\n",
       "    <tr>\n",
       "      <td>4500</td>\n",
       "      <td>0.173800</td>\n",
       "      <td>0.174441</td>\n",
       "      <td>0.939167</td>\n",
       "      <td>0.939700</td>\n",
       "      <td>0.939167</td>\n",
       "      <td>0.939202</td>\n",
       "      <td>0.952767</td>\n",
       "      <td>0.986210</td>\n",
       "      <td>0.905488</td>\n",
       "      <td>0.912343</td>\n",
       "    </tr>\n",
       "    <tr>\n",
       "      <td>5000</td>\n",
       "      <td>0.174000</td>\n",
       "      <td>0.172495</td>\n",
       "      <td>0.939167</td>\n",
       "      <td>0.939552</td>\n",
       "      <td>0.939167</td>\n",
       "      <td>0.939199</td>\n",
       "      <td>0.952093</td>\n",
       "      <td>0.987182</td>\n",
       "      <td>0.904512</td>\n",
       "      <td>0.913008</td>\n",
       "    </tr>\n",
       "    <tr>\n",
       "      <td>5500</td>\n",
       "      <td>0.156200</td>\n",
       "      <td>0.173605</td>\n",
       "      <td>0.938333</td>\n",
       "      <td>0.938707</td>\n",
       "      <td>0.938333</td>\n",
       "      <td>0.938432</td>\n",
       "      <td>0.951178</td>\n",
       "      <td>0.985995</td>\n",
       "      <td>0.905464</td>\n",
       "      <td>0.911089</td>\n",
       "    </tr>\n",
       "    <tr>\n",
       "      <td>6000</td>\n",
       "      <td>0.164300</td>\n",
       "      <td>0.170136</td>\n",
       "      <td>0.939583</td>\n",
       "      <td>0.939865</td>\n",
       "      <td>0.939583</td>\n",
       "      <td>0.939624</td>\n",
       "      <td>0.951339</td>\n",
       "      <td>0.987030</td>\n",
       "      <td>0.906891</td>\n",
       "      <td>0.913236</td>\n",
       "    </tr>\n",
       "    <tr>\n",
       "      <td>6500</td>\n",
       "      <td>0.158800</td>\n",
       "      <td>0.171697</td>\n",
       "      <td>0.939500</td>\n",
       "      <td>0.939845</td>\n",
       "      <td>0.939500</td>\n",
       "      <td>0.939594</td>\n",
       "      <td>0.952429</td>\n",
       "      <td>0.986715</td>\n",
       "      <td>0.906950</td>\n",
       "      <td>0.912281</td>\n",
       "    </tr>\n",
       "    <tr>\n",
       "      <td>7000</td>\n",
       "      <td>0.155400</td>\n",
       "      <td>0.170825</td>\n",
       "      <td>0.939917</td>\n",
       "      <td>0.940138</td>\n",
       "      <td>0.939917</td>\n",
       "      <td>0.939964</td>\n",
       "      <td>0.952252</td>\n",
       "      <td>0.986884</td>\n",
       "      <td>0.908180</td>\n",
       "      <td>0.912541</td>\n",
       "    </tr>\n",
       "    <tr>\n",
       "      <td>7500</td>\n",
       "      <td>0.148100</td>\n",
       "      <td>0.170661</td>\n",
       "      <td>0.939917</td>\n",
       "      <td>0.940171</td>\n",
       "      <td>0.939917</td>\n",
       "      <td>0.939994</td>\n",
       "      <td>0.952622</td>\n",
       "      <td>0.986361</td>\n",
       "      <td>0.907426</td>\n",
       "      <td>0.913568</td>\n",
       "    </tr>\n",
       "    <tr>\n",
       "      <td>8000</td>\n",
       "      <td>0.156700</td>\n",
       "      <td>0.168659</td>\n",
       "      <td>0.941500</td>\n",
       "      <td>0.941919</td>\n",
       "      <td>0.941500</td>\n",
       "      <td>0.941568</td>\n",
       "      <td>0.953732</td>\n",
       "      <td>0.987194</td>\n",
       "      <td>0.909060</td>\n",
       "      <td>0.916285</td>\n",
       "    </tr>\n",
       "  </tbody>\n",
       "</table><p>"
      ],
      "text/plain": [
       "<IPython.core.display.HTML object>"
      ]
     },
     "metadata": {},
     "output_type": "display_data"
    },
    {
     "data": {
      "text/plain": [
       "('results/tokenizer_config.json',\n",
       " 'results/special_tokens_map.json',\n",
       " 'results/vocab.json',\n",
       " 'results/merges.txt',\n",
       " 'results/added_tokens.json')"
      ]
     },
     "execution_count": 11,
     "metadata": {},
     "output_type": "execute_result"
    }
   ],
   "source": [
    "# Free up memory\n",
    "gc.collect()\n",
    "torch.cuda.empty_cache()\n",
    "\n",
    "# Start training\n",
    "print(\"Starting training...\")\n",
    "train_result = trainer.train()\n",
    "\n",
    "# Save the final model\n",
    "trainer.save_model(output_dir)\n",
    "tokenizer.save_pretrained(output_dir)"
   ]
  },
  {
   "cell_type": "code",
   "execution_count": 12,
   "metadata": {
    "colab": {
     "base_uri": "https://localhost:8080/",
     "height": 341
    },
    "id": "P3EYJXwk7CwA",
    "outputId": "0a13e798-b0a2-4075-e5ad-21e757561b1e"
   },
   "outputs": [
    {
     "name": "stdout",
     "output_type": "stream",
     "text": [
      "Training completed!\n",
      "Training loss: 0.21225497331150056\n",
      "Training time: 2631.4519 seconds\n"
     ]
    },
    {
     "data": {
      "text/html": [
       "\n",
       "    <div>\n",
       "      \n",
       "      <progress value='188' max='188' style='width:300px; height:20px; vertical-align: middle;'></progress>\n",
       "      [188/188 00:21]\n",
       "    </div>\n",
       "    "
      ],
      "text/plain": [
       "<IPython.core.display.HTML object>"
      ]
     },
     "metadata": {},
     "output_type": "display_data"
    },
    {
     "name": "stdout",
     "output_type": "stream",
     "text": [
      "Final evaluation metrics:\n",
      "eval_loss: 0.1687\n",
      "eval_accuracy: 0.9415\n",
      "eval_precision: 0.9419\n",
      "eval_recall: 0.9415\n",
      "eval_f1: 0.9416\n",
      "eval_f1_World: 0.9537\n",
      "eval_f1_Sports: 0.9872\n",
      "eval_f1_Business: 0.9091\n",
      "eval_f1_Sci/Tech: 0.9163\n",
      "eval_runtime: 21.8626\n",
      "eval_samples_per_second: 548.8820\n",
      "eval_steps_per_second: 8.5990\n",
      "epoch: 4.9973\n"
     ]
    }
   ],
   "source": [
    "# Show training results\n",
    "print(\"Training completed!\")\n",
    "print(f\"Training loss: {train_result.training_loss}\")\n",
    "print(f\"Training time: {train_result.metrics['train_runtime']} seconds\")\n",
    "\n",
    "# Final evaluation\n",
    "final_metrics = trainer.evaluate()\n",
    "print(\"Final evaluation metrics:\")\n",
    "for key, value in final_metrics.items():\n",
    "    print(f\"{key}: {value:.4f}\")\n"
   ]
  },
  {
   "cell_type": "markdown",
   "metadata": {
    "id": "-M3oNcTr7Cdi"
   },
   "source": [
    "## Model Evaluation"
   ]
  },
  {
   "cell_type": "code",
   "execution_count": 13,
   "metadata": {
    "colab": {
     "base_uri": "https://localhost:8080/"
    },
    "id": "3nVmXM157FYc",
    "outputId": "ca45d031-51f7-4de1-e601-dbbbc0af2d2e"
   },
   "outputs": [
    {
     "name": "stdout",
     "output_type": "stream",
     "text": [
      "Reloading the best model for detailed evaluation...\n"
     ]
    },
    {
     "name": "stderr",
     "output_type": "stream",
     "text": [
      "Some weights of RobertaForSequenceClassification were not initialized from the model checkpoint at roberta-base and are newly initialized: ['classifier.dense.bias', 'classifier.dense.weight', 'classifier.out_proj.bias', 'classifier.out_proj.weight']\n",
      "You should probably TRAIN this model on a down-stream task to be able to use it for predictions and inference.\n"
     ]
    },
    {
     "name": "stdout",
     "output_type": "stream",
     "text": [
      "Evaluating model on validation set:\n"
     ]
    },
    {
     "name": "stderr",
     "output_type": "stream",
     "text": [
      "Evaluating: 100%|██████████| 188/188 [01:21<00:00,  2.30it/s]"
     ]
    },
    {
     "name": "stdout",
     "output_type": "stream",
     "text": [
      "Evaluation Results:\n",
      "Accuracy: 0.9416\n",
      "Precision: 0.9420\n",
      "Recall: 0.9416\n",
      "F1 Score: 0.9417\n",
      "\n",
      "Detailed Classification Report:\n",
      "              precision    recall  f1-score   support\n",
      "\n",
      "       World       0.97      0.94      0.95      3000\n",
      "      Sports       0.99      0.99      0.99      3000\n",
      "    Business       0.92      0.90      0.91      3000\n",
      "    Sci/Tech       0.90      0.93      0.92      3000\n",
      "\n",
      "    accuracy                           0.94     12000\n",
      "   macro avg       0.94      0.94      0.94     12000\n",
      "weighted avg       0.94      0.94      0.94     12000\n",
      "\n"
     ]
    },
    {
     "name": "stderr",
     "output_type": "stream",
     "text": [
      "\n"
     ]
    }
   ],
   "source": [
    "# Reload best model\n",
    "best_model_path = output_dir\n",
    "print(\"Reloading the best model for detailed evaluation...\")\n",
    "model = RobertaForSequenceClassification.from_pretrained(base_model, num_labels=num_labels)\n",
    "# Load PEFT adapter weights onto the base model\n",
    "peft_model = PeftModel.from_pretrained(model, best_model_path)\n",
    "peft_model.to(device)\n",
    "peft_model.eval()\n",
    "\n",
    "def evaluate_model(inference_model, dataset, labelled=True, batch_size=32, data_collator=None):\n",
    "    \"\"\"Enhanced evaluation function with additional metrics and optimizations\"\"\"\n",
    "    eval_dataloader = DataLoader(dataset, batch_size=batch_size, collate_fn=data_collator)\n",
    "\n",
    "    all_predictions = []\n",
    "    all_labels = []\n",
    "\n",
    "    # Track progress with tqdm\n",
    "    progress_bar = tqdm(eval_dataloader, desc=\"Evaluating\")\n",
    "\n",
    "    # Inference loop\n",
    "    for batch in progress_bar:\n",
    "        batch = {k: v.to(device) for k, v in batch.items()}\n",
    "\n",
    "        with torch.no_grad():\n",
    "            outputs = inference_model(**batch)\n",
    "\n",
    "        predictions = outputs.logits.argmax(dim=-1)\n",
    "        all_predictions.append(predictions.cpu())\n",
    "\n",
    "        if labelled:\n",
    "            all_labels.append(batch[\"labels\"].cpu())\n",
    "\n",
    "    # Concatenate predictions\n",
    "    all_predictions = torch.cat(all_predictions, dim=0)\n",
    "\n",
    "    if labelled:\n",
    "        all_labels = torch.cat(all_labels, dim=0)\n",
    "\n",
    "        # Calculate metrics\n",
    "        accuracy = accuracy_score(all_labels, all_predictions)\n",
    "        precision = precision_score(all_labels, all_predictions, average='weighted')\n",
    "        recall = recall_score(all_labels, all_predictions, average='weighted')\n",
    "        f1 = f1_score(all_labels, all_predictions, average='weighted')\n",
    "\n",
    "        print(f\"Evaluation Results:\")\n",
    "        print(f\"Accuracy: {accuracy:.4f}\")\n",
    "        print(f\"Precision: {precision:.4f}\")\n",
    "        print(f\"Recall: {recall:.4f}\")\n",
    "        print(f\"F1 Score: {f1:.4f}\")\n",
    "\n",
    "        # Detailed classification report\n",
    "        print(\"\\nDetailed Classification Report:\")\n",
    "        print(classification_report(all_labels, all_predictions, target_names=class_names))\n",
    "\n",
    "        return {\n",
    "            'accuracy': accuracy,\n",
    "            'precision': precision,\n",
    "            'recall': recall,\n",
    "            'f1': f1\n",
    "        }, all_predictions\n",
    "    else:\n",
    "        return all_predictions\n",
    "\n",
    "# Evaluate on validation set\n",
    "print(\"Evaluating model on validation set:\")\n",
    "eval_metrics, _ = evaluate_model(peft_model, eval_dataset, True, 64, data_collator)\n",
    "\n"
   ]
  },
  {
   "cell_type": "markdown",
   "metadata": {
    "id": "tKCJtJlg7Z4y"
   },
   "source": [
    "## Run Inference on Unlabelled Test Dataset"
   ]
  },
  {
   "cell_type": "code",
   "execution_count": 14,
   "metadata": {
    "colab": {
     "base_uri": "https://localhost:8080/",
     "height": 480,
     "referenced_widgets": [
      "a98991d6cb8d43baaf14774b7880e444",
      "b76804fc5e79486fa7bd09ccacdf22b0",
      "7602ef4f2dc74b209c8640fafc6fad9c",
      "29819f6868534f939a2444b901fbcbc2",
      "65468a66fe1d452ba2991d10cbbed872",
      "fcf6b8878b914199ad19a1244372a454",
      "8314eb4971244d14b53e342a7741d334",
      "067bf1b8b3064521ae5508db77dac930",
      "b35271e3f0eb4a01951cbf5b518bad5a",
      "afad443c87e2454dbb89ae4145b4a516",
      "e87d4c71945b4574866954e544edb6c9"
     ]
    },
    "id": "1m-WvPKu7YGJ",
    "outputId": "3e95de55-ed8b-4132-b14a-15da66983a81"
   },
   "outputs": [
    {
     "name": "stdout",
     "output_type": "stream",
     "text": [
      "Loading unlabelled test dataset...\n"
     ]
    },
    {
     "data": {
      "application/vnd.jupyter.widget-view+json": {
       "model_id": "a98991d6cb8d43baaf14774b7880e444",
       "version_major": 2,
       "version_minor": 0
      },
      "text/plain": [
       "Map:   0%|          | 0/8000 [00:00<?, ? examples/s]"
      ]
     },
     "metadata": {},
     "output_type": "display_data"
    },
    {
     "name": "stdout",
     "output_type": "stream",
     "text": [
      "Running inference on test dataset...\n"
     ]
    },
    {
     "name": "stderr",
     "output_type": "stream",
     "text": [
      "Evaluating: 100%|██████████| 250/250 [01:13<00:00,  3.39it/s]"
     ]
    },
    {
     "name": "stdout",
     "output_type": "stream",
     "text": [
      "Inference complete. Predictions saved to results/inference_output.csv\n",
      "\n",
      "Sample of predictions:\n",
      "   ID  Label\n",
      "0   0      3\n",
      "1   1      0\n",
      "2   2      0\n",
      "3   3      3\n",
      "4   4      1\n",
      "5   5      1\n",
      "6   6      3\n",
      "7   7      0\n",
      "8   8      3\n",
      "9   9      3\n",
      "\n",
      "Prediction counts per class:\n",
      "Class 0 (World): 1571 predictions\n",
      "Class 1 (Sports): 1994 predictions\n",
      "Class 2 (Business): 1731 predictions\n",
      "Class 3 (Sci/Tech): 2704 predictions\n"
     ]
    },
    {
     "name": "stderr",
     "output_type": "stream",
     "text": [
      "\n"
     ]
    }
   ],
   "source": [
    "# Load test dataset\n",
    "print(\"Loading unlabelled test dataset...\")\n",
    "try:\n",
    "    # First try to load as pickle file (it might be a pandas DataFrame)\n",
    "    unlabelled_dataset = pd.read_pickle(\"test_unlabelled.pkl\")\n",
    "    # If it's a DataFrame, convert to HF Dataset\n",
    "    if isinstance(unlabelled_dataset, pd.DataFrame):\n",
    "        test_dataset = Dataset.from_pandas(unlabelled_dataset)\n",
    "    else:\n",
    "        # If it's already a Dataset object, use it directly\n",
    "        test_dataset = unlabelled_dataset\n",
    "except Exception as e:\n",
    "    print(f\"Error loading pickle: {e}\")\n",
    "    # Alternative: Try loading as a Dataset directly\n",
    "    test_dataset = load_dataset('pickle', data_files='test_unlabelled.pkl', split='train')\n",
    "\n",
    "# Preprocess test data\n",
    "test_dataset = test_dataset.map(preprocess, batched=True, remove_columns=[\"text\"])\n",
    "\n",
    "# Run inference\n",
    "print(\"Running inference on test dataset...\")\n",
    "preds = evaluate_model(peft_model, test_dataset, False, 32, data_collator)\n",
    "\n",
    "# Create submission file\n",
    "df_output = pd.DataFrame({\n",
    "    'ID': range(len(preds)),\n",
    "    'Label': preds.numpy()\n",
    "})\n",
    "\n",
    "# Save predictions\n",
    "submission_path = os.path.join(output_dir, \"inference_output.csv\")\n",
    "df_output.to_csv(submission_path, index=False)\n",
    "print(f\"Inference complete. Predictions saved to {submission_path}\")\n",
    "\n",
    "# Show sample of predictions\n",
    "print(\"\\nSample of predictions:\")\n",
    "print(df_output.head(10))\n",
    "\n",
    "print(\"\\nPrediction counts per class:\")\n",
    "pred_counts = collections.Counter(df_output['Label'])\n",
    "for class_id, count in sorted(pred_counts.items()):\n",
    "    print(f\"Class {class_id} ({id2label[class_id]}): {count} predictions\")\n"
   ]
  }
 ],
 "metadata": {
  "accelerator": "GPU",
  "colab": {
   "gpuType": "T4",
   "provenance": []
  },
  "kernelspec": {
   "display_name": "Python 3",
   "name": "python3"
  },
  "language_info": {
   "name": "python"
  }
 },
 "nbformat": 4,
 "nbformat_minor": 0
}
